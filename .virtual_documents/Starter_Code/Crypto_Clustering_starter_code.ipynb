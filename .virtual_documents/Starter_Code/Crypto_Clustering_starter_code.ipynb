# Import required libraries and dependencies
import pandas as pd
import hvplot.pandas
from sklearn.cluster import KMeans
from sklearn.decomposition import PCA
from sklearn.preprocessing import StandardScaler
import matplotlib.pyplot as plt
import os

import warnings
warnings.filterwarnings("ignore", category=FutureWarning)
warnings.filterwarnings("ignore", message="KMeans is known to have a memory leak on Windows with MKL")


# Load the data into a Pandas DataFrame
df_market_data = pd.read_csv(
    "Resources/crypto_market_data.csv",
    index_col="coin_id")

# Display sample data
df_market_data.head(10)


# Generate summary statistics
df_market_data.describe()


# Plot your data to see what's in your DataFrame
df_market_data.hvplot.line(
    width=800,
    height=400,
    rot=90
)








# Use the `StandardScaler()` module from scikit-learn to normalize the data from the CSV file
scaler = StandardScaler()

# Fit the scaler to the data and transform it
scaled_data = scaler.fit_transform(df_market_data)


# Create a DataFrame with the scaled data
df_scaled_data = pd.DataFrame(scaled_data, columns=df_market_data.columns, index=df_market_data.index)

# Copy the crypto names from the original data
df_scaled_data['coin_id'] = df_market_data.index

# Set the coinid column as index
df_scaled_data.set_index('coin_id', inplace=True)

# Display sample data
df_scaled_data.head()








# Create a list with the number of k-values from 1 to 11
k_values = list(range(1, 11))


# Create an empty list to store the inertia values
inertia_values = []

# Create a for loop to compute the inertia with each possible value of k
# Inside the loop:
# 1. Create a KMeans model using the loop counter for the n_clusters
# 2. Fit the model to the data using `df_market_data_scaled`
# 3. Append the model.inertia_ to the inertia list
for k in k_values:
    kmeans = KMeans(n_clusters=k, random_state=0)
    kmeans.fit(df_scaled_data)
    inertia_values.append(kmeans.inertia_)


# Create a dictionary with the data to plot the Elbow curve
elbow_data = {"k": k_values, "inertia": inertia_values}

# Create a DataFrame with the data to plot the Elbow curve
df_elbow = pd.DataFrame(elbow_data)

# Display the DataFrame
df_elbow.head()


# Plot a line chart with all the inertia values computed with 
# the different values of k to visually identify the optimal value for k.
plt.figure(figsize=(10, 6))
plt.plot(df_elbow["k"], df_elbow["inertia"], marker='o')
plt.xlabel("Number of clusters (k)")
plt.ylabel("Inertia")
plt.title("Elbow Method for Optimal k")
plt.show()











# Initialize the K-Means model using the best value for k

# best k is 4 from the elbow method
best_k = 4

# Initialize the K-Means model with the best value for k
kmeans = KMeans(n_clusters=best_k, n_init=10, random_state=0)


# Fit the K-Means model using the scaled data
kmeans.fit(df_scaled_data)


# Predict the clusters to group the cryptocurrencies using the scaled data
crypto_clusters = kmeans.predict(df_scaled_data)

# Print the resulting array of cluster values.
print(crypto_clusters)


# Create a copy of the DataFrame
df_market_data_clusters = df_market_data.copy()


# Add a new column to the DataFrame with the predicted clusters
df_market_data_clusters['cluster'] = crypto_clusters

# Display sample data
df_market_data_clusters.head()


# Create a scatter plot using hvPlot by setting 
# `x="price_change_percentage_24h"` and `y="price_change_percentage_7d"`. 
# Color the graph points with the labels found using K-Means and 
# add the crypto name in the `hover_cols` parameter to identify 
# the cryptocurrency represented by each data point.
scatter_plot = df_market_data_clusters.hvplot.scatter(
    x='price_change_percentage_24h', 
    y='price_change_percentage_7d', 
    by='cluster', 
    hover_cols=['coin_id'], 
    title="Cryptocurrency Clusters"
)

# Display the scatter plot
scatter_plot








# Create a PCA model instance and set `n_components=3`.
pca = PCA(n_components=3)


# Use the PCA model with `fit_transform` to reduce to 
# three principal components.
pca_data = pca.fit_transform(df_scaled_data)

# Create a DataFrame with the PCA data, using the original coin_id as the index
df_pca_data = pd.DataFrame(pca_data, columns=["PC1", "PC2", "PC3"], index=df_scaled_data.index)

# View the first five rows of the DataFrame. 
df_pca_data.head()


# Retrieve the explained variance to determine how much information 
# can be attributed to each principal component.
explained_variance = pca.explained_variance_ratio_

# Print the explained variance
print("Explained Variance for each principal component:")
print(f"PC1: {explained_variance[0]}")
print(f"PC2: {explained_variance[1]}")
print(f"PC3: {explained_variance[2]}")

# Print the total explained variance
total_explained_variance = explained_variance.sum()
print(f"Total Explained Variance: {total_explained_variance}")





# Create a new DataFrame with the PCA data.
df_pca_data = pd.DataFrame(pca_data, columns=["PC1", "PC2", "PC3"], index=df_scaled_data.index)
# Creating a DataFrame with the PCA data

# Copy the crypto names from the original data
df_pca_data['coin_id'] = df_market_data.index

# Set the coinid column as index
df_pca_data.set_index('coin_id', inplace=True)

# Display sample data
df_pca_data.head()








# Create a list with the number of k-values from 1 to 11
k_values = list(range(1, 12))


# Create an empty list to store the inertia values
inertia_values_pca = []

# Create a for loop to compute the inertia with each possible value of k
# Inside the loop:
# 1. Create a KMeans model using the loop counter for the n_clusters
# 2. Fit the model to the data using `df_market_data_pca`
# 3. Append the model.inertia_ to the inertia list
for k in k_values:
    kmeans_pca = KMeans(n_clusters=k, n_init=10, random_state=0)
    kmeans_pca.fit(df_pca_data)
    inertia_values_pca.append(kmeans_pca.inertia_)


# Create a dictionary with the data to plot the Elbow curve
elbow_data_pca = {"k": k_values, "inertia": inertia_values_pca}
# Create a DataFrame with the data to plot the Elbow curve
df_elbow_pca = pd.DataFrame(elbow_data_pca)

# Display the DataFrame
df_elbow_pca.head()


# Plot a line chart with all the inertia values computed with 
# the different values of k to visually identify the optimal value for k.
plt.figure(figsize=(10, 6))
plt.plot(df_elbow_pca["k"], df_elbow_pca["inertia"], marker='o')
plt.xlabel("Number of clusters (k)")
plt.ylabel("Inertia")
plt.title("Elbow Method for Optimal k (PCA Data)")
plt.show()








# Initialize the K-Means model using the best value for k
best_k_pca = 4

kmeans_pca = KMeans(n_clusters=best_k_pca, n_init=10, random_state=0)


# Fit the K-Means model using the PCA data
kmeans_pca.fit(df_pca_data)


# Predict the clusters to group the cryptocurrencies using the PCA data
crypto_clusters_pca = kmeans_pca.predict(df_pca_data)
# Print the resulting array of cluster values.
print(crypto_clusters_pca)


# Create a copy of the DataFrame with the PCA data
df_pca_clusters = df_pca_data.copy()

# Add a new column to the DataFrame with the predicted clusters
df_pca_clusters['cluster'] = crypto_clusters_pca

# Display sample data
df_pca_clusters.head()


# Create a scatter plot using hvPlot by setting 
# `x="PC1"` and `y="PC2"`. 
# Color the graph points with the labels found using K-Means and 
# add the crypto name in the `hover_cols` parameter to identify 
# the cryptocurrency represented by each data point.


scatter_plot_pca = df_pca_clusters.hvplot.scatter(
    x='PC1', 
    y='PC2', 
    by='cluster', 
    hover_cols=['coin_id'], 
    title="Cryptocurrency Clusters (PCA Data)"
)

# Display the scatter plot
scatter_plot_pca





# Composite plot to contrast the Elbow curves

# Create a composite plot to contrast the Elbow curves
# Convert the Elbow data for original and PCA data to DataFrames
df_elbow = pd.DataFrame(elbow_data)
df_elbow_pca = pd.DataFrame(elbow_data_pca)

# Plot the Elbow curve for the original data
elbow_curve_original_line = df_elbow.hvplot.line(
    x='k', 
    y='inertia', 
    xlabel='Number of clusters (k)', 
    ylabel='Inertia', 
    title='Elbow Method for Optimal k (Original Data)',
    width=400,
    height=400
)
elbow_curve_original_marker = df_elbow.hvplot.scatter(
    x='k', 
    y='inertia', 
    marker='o', 
    color='red',
    size=5
)
elbow_curve_original = elbow_curve_original_line * elbow_curve_original_marker

# Plot the Elbow curve for the PCA data
elbow_curve_pca_line = df_elbow_pca.hvplot.line(
    x='k', 
    y='inertia', 
    xlabel='Number of clusters (k)', 
    ylabel='Inertia', 
    title='Elbow Method for Optimal k (PCA Data)',
    width=400,
    height=400
)
elbow_curve_pca_marker = df_elbow_pca.hvplot.scatter(
    x='k', 
    y='inertia', 
    marker='o', 
    color='blue',
    size=5
)
elbow_curve_pca = elbow_curve_pca_line * elbow_curve_pca_marker

# Show the plots
elbow_curve_composite = elbow_curve_original + elbow_curve_pca
elbow_curve_composite


# Composite plot to contrast the clusters
# YOUR CODE HERE!

# Composite plot to contrast the clusters
scatter_plot_original = df_market_data_clusters.hvplot.scatter(
    x='price_change_percentage_24h', 
    y='price_change_percentage_7d', 
    by='cluster', 
    hover_cols=['coin_id'], 
    title="Cryptocurrency Clusters (Original Data)"
)

scatter_plot_pca = df_pca_clusters.hvplot.scatter(
    x='PC1', 
    y='PC2', 
    by='cluster', 
    hover_cols=['coin_id'], 
    title="Cryptocurrency Clusters (PCA Data)"
)

# Display the composite plot
scatter_plot_original + scatter_plot_pca






